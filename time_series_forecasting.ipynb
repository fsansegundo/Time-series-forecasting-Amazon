{
 "cells": [
  {
   "cell_type": "markdown",
   "metadata": {},
   "source": [
    "# Try out new chronos timeseries module"
   ]
  },
  {
   "cell_type": "code",
   "execution_count": 1,
   "metadata": {},
   "outputs": [
    {
     "name": "stderr",
     "output_type": "stream",
     "text": [
      "/Users/fernando/miniforge3/envs/chronos/lib/python3.12/site-packages/tqdm/auto.py:21: TqdmWarning: IProgress not found. Please update jupyter and ipywidgets. See https://ipywidgets.readthedocs.io/en/stable/user_install.html\n",
      "  from .autonotebook import tqdm as notebook_tqdm\n"
     ]
    }
   ],
   "source": [
    "import matplotlib.pyplot as plt\n",
    "import numpy as np\n",
    "import pandas as pd\n",
    "import torch\n",
    "from chronos import ChronosPipeline\n",
    "from tqdm.auto import tqdm\n",
    "import tsdb"
   ]
  },
  {
   "cell_type": "markdown",
   "metadata": {},
   "source": [
    "Load model"
   ]
  },
  {
   "cell_type": "code",
   "execution_count": 2,
   "metadata": {},
   "outputs": [
    {
     "ename": "",
     "evalue": "",
     "output_type": "error",
     "traceback": [
      "\u001b[1;31mThe Kernel crashed while executing code in the current cell or a previous cell. \n",
      "\u001b[1;31mPlease review the code in the cell(s) to identify a possible cause of the failure. \n",
      "\u001b[1;31mClick <a href='https://aka.ms/vscodeJupyterKernelCrash'>here</a> for more info. \n",
      "\u001b[1;31mView Jupyter <a href='command:jupyter.viewOutput'>log</a> for further details."
     ]
    }
   ],
   "source": [
    "pipeline = ChronosPipeline.from_pretrained(\n",
    "  \"amazon/chronos-t5-base\",\n",
    "  device_map=\"cuda\",\t\n",
    "  torch_dtype=torch.bfloat16,\n",
    ")\n",
    "# pipeline = ChronosPipeline.from_pretrained(\n",
    "#   r\"C:\\Users\\eivin\\.cache\\huggingface\\hub\\models--amazon--chronos-t5-base\",\n",
    "#   device_map=\"cuda\",\t\n",
    "#   torch_dtype=torch.bfloat16,\n",
    "# )"
   ]
  },
  {
   "cell_type": "markdown",
   "metadata": {},
   "source": [
    "## Helper functions"
   ]
  },
  {
   "cell_type": "code",
   "execution_count": null,
   "metadata": {},
   "outputs": [],
   "source": [
    "def load_model():\n",
    "\tpipeline = ChronosPipeline.from_pretrained(\n",
    "\t\"amazon/chronos-t5-base\",\n",
    "\tdevice_map=\"cuda\",\t\n",
    "\ttorch_dtype=torch.bfloat16,\n",
    "\t)\n",
    "\treturn pipeline\n",
    "\t\n",
    "def predict(pipeline, timeseries, prediction_length=12):\n",
    "\t\"\"\"given a timeseries, predict with chronos model\"\"\"\n",
    "\tforecast = pipeline.predict(timeseries, prediction_length, num_samples=1)[0][0]  # shape [num_series, num_samples, prediction_length]\n",
    "\treturn forecast\n",
    "\n",
    "def visualize(timeseries, forecast, ground_truth=None, xlim=None, ylim=None):\n",
    "\t# visualize the forecast\n",
    "\tassert isinstance(timeseries, torch.Tensor) and isinstance(forecast, torch.Tensor), \"timeseries and forecast should be numpy arrays\"\n",
    "\t\n",
    "\tplt.figure(figsize=(8, 4))\n",
    "\tplt.plot(range(len(timeseries)), timeseries, color=\"royalblue\", label=\"historical data\")\n",
    "\tplt.plot(range(len(timeseries)-1, len(timeseries) - 1 + len(forecast)), forecast, color=\"tomato\", label=\"forecast\")\n",
    "\tif ground_truth is not None:\n",
    "\t\tplt.plot(range(len(timeseries)-1, len(timeseries) - 1 + len(ground_truth)), ground_truth, color=\"green\", label=\"ground truth\")\n",
    "\tif xlim is not None:\n",
    "\t\tplt.xlim(xlim)\n",
    "\tif ylim is not None:\n",
    "\t\tplt.ylim(ylim)\n",
    "\tplt.legend()\n",
    "\tplt.grid()\n",
    "\tplt.show()\n",
    "\n",
    "\n",
    "def get_mse(y_true, y_pred):\n",
    "\treturn np.mean((y_true - y_pred)**2)\n",
    "def get_mae(y_true, y_pred):\n",
    "\treturn np.mean(np.abs(y_true - y_pred))\n",
    "def get_rmse(y_true, y_pred):\n",
    "\treturn np.sqrt(get_mse(y_true, y_pred))\n",
    "\n",
    "def get_scores(y_true, y_pred):\n",
    "\t\"\"\"given true and predicted values, return mse, mae, rmse\"\"\"\n",
    "\treturn get_mse(y_true, y_pred), get_mae(y_true, y_pred), get_rmse(y_true, y_pred)\n"
   ]
  },
  {
   "cell_type": "markdown",
   "metadata": {},
   "source": [
    "## Example task"
   ]
  },
  {
   "cell_type": "code",
   "execution_count": null,
   "metadata": {},
   "outputs": [],
   "source": [
    "pipeline = load_model()\n",
    "example_timeseries = torch.tensor(range(100), dtype=torch.float32)\n",
    "forecast = predict(pipeline, example_timeseries)"
   ]
  },
  {
   "cell_type": "code",
   "execution_count": null,
   "metadata": {},
   "outputs": [],
   "source": [
    "forecast"
   ]
  },
  {
   "cell_type": "code",
   "execution_count": null,
   "metadata": {},
   "outputs": [],
   "source": [
    "visualize(example_timeseries, forecast)\n"
   ]
  },
  {
   "cell_type": "markdown",
   "metadata": {},
   "source": [
    "## Apply the model to real dataset"
   ]
  },
  {
   "cell_type": "code",
   "execution_count": null,
   "metadata": {},
   "outputs": [],
   "source": [
    "pipeline = load_model()\n",
    "data = tsdb.load('physionet_2012')\n",
    "timeseries = data[\"X\"][\"Temp\"].to_numpy()\n",
    "physionet_2012_timeseries = timeseries[~np.isnan(timeseries)]"
   ]
  },
  {
   "cell_type": "markdown",
   "metadata": {},
   "source": [
    "Test the model performance"
   ]
  },
  {
   "cell_type": "code",
   "execution_count": null,
   "metadata": {},
   "outputs": [],
   "source": [
    "# now test the model. Given the last x values, predict the next y values, then we can calculate metrics like MSE, RMSE, MAE\n",
    "\n",
    "CONTEXT_LENGTH = 200\n",
    "PREDICTION_LENGTH = 5\t\t\n",
    "\n",
    "\n",
    "mse_scores, mae_scores, rmse_scores = [], [], []\n",
    "for i in tqdm(range(0, len(physionet_2012_timeseries), CONTEXT_LENGTH)):\n",
    "\tif (i+CONTEXT_LENGTH+PREDICTION_LENGTH) > len(physionet_2012_timeseries):\n",
    "\t\tbreak\n",
    "\tprediction = predict(pipeline, torch.tensor(physionet_2012_timeseries[i:i+CONTEXT_LENGTH]), PREDICTION_LENGTH)\n",
    "\tground_truth = physionet_2012_timeseries[i+CONTEXT_LENGTH:i+CONTEXT_LENGTH+PREDICTION_LENGTH]\n",
    "\n",
    "\tmse, mae, rmse = get_scores(ground_truth, prediction.numpy())\n",
    "\tmse_scores.append(mse), mae_scores.append(mae), rmse_scores.append(rmse)"
   ]
  },
  {
   "cell_type": "code",
   "execution_count": null,
   "metadata": {},
   "outputs": [],
   "source": [
    "np.mean(mse_scores), np.mean(mae_scores), np.mean(rmse_scores)"
   ]
  },
  {
   "cell_type": "code",
   "execution_count": null,
   "metadata": {},
   "outputs": [],
   "source": [
    "print(\"MAE:  \",round(np.mean(mae_scores), 2))\n",
    "print(\"MSE:  \",round( np.mean(mse_scores), 2) )\n",
    "print(\"RMSE: \",round( np.mean(rmse_scores), 2))"
   ]
  },
  {
   "cell_type": "markdown",
   "metadata": {},
   "source": [
    "Visualize prediction vs ground truth"
   ]
  },
  {
   "cell_type": "code",
   "execution_count": null,
   "metadata": {},
   "outputs": [],
   "source": [
    "CONTEXT_LENGTH = 500\n",
    "PREDICTION_LENGTH = 20\n",
    "i = 0\t\n",
    "prediction = predict(pipeline, torch.tensor(physionet_2012_timeseries[0:CONTEXT_LENGTH]), PREDICTION_LENGTH)\n",
    "ground_truth = physionet_2012_timeseries[CONTEXT_LENGTH:i+CONTEXT_LENGTH+PREDICTION_LENGTH]\n"
   ]
  },
  {
   "cell_type": "code",
   "execution_count": null,
   "metadata": {},
   "outputs": [],
   "source": []
  },
  {
   "cell_type": "code",
   "execution_count": null,
   "metadata": {},
   "outputs": [],
   "source": [
    "xlim = (CONTEXT_LENGTH-100, CONTEXT_LENGTH+PREDICTION_LENGTH)\n",
    "# xlim = None\n",
    "visualize(torch.tensor(physionet_2012_timeseries[i:i+CONTEXT_LENGTH]), prediction, xlim=xlim)"
   ]
  },
  {
   "cell_type": "code",
   "execution_count": null,
   "metadata": {},
   "outputs": [],
   "source": []
  }
 ],
 "metadata": {
  "kernelspec": {
   "display_name": "venv",
   "language": "python",
   "name": "python3"
  },
  "language_info": {
   "codemirror_mode": {
    "name": "ipython",
    "version": 3
   },
   "file_extension": ".py",
   "mimetype": "text/x-python",
   "name": "python",
   "nbconvert_exporter": "python",
   "pygments_lexer": "ipython3",
   "version": "3.12.2"
  }
 },
 "nbformat": 4,
 "nbformat_minor": 2
}
